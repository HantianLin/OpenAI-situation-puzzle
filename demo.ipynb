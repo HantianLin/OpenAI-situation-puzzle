{
 "cells": [
  {
   "cell_type": "markdown",
   "metadata": {},
   "source": [
    "# AI Powered Situation Puzzle Game #"
   ]
  },
  {
   "cell_type": "markdown",
   "metadata": {},
   "source": [
    "Save your OpenAI api key to a file named `openai_api_key.txt`\n",
    "<br>\n",
    "You can add more games by storing new \"scenario\" and \"truth\" pairs into `games.json`"
   ]
  },
  {
   "cell_type": "code",
   "execution_count": 14,
   "metadata": {},
   "outputs": [
    {
     "name": "stdout",
     "output_type": "stream",
     "text": [
      "Requirement already satisfied: openai in /Users/hantian_lin/.pyenv/versions/3.11.4/lib/python3.11/site-packages (0.27.8)\n",
      "Requirement already satisfied: requests>=2.20 in /Users/hantian_lin/.pyenv/versions/3.11.4/lib/python3.11/site-packages (from openai) (2.31.0)\n",
      "Requirement already satisfied: tqdm in /Users/hantian_lin/.pyenv/versions/3.11.4/lib/python3.11/site-packages (from openai) (4.65.0)\n",
      "Requirement already satisfied: aiohttp in /Users/hantian_lin/.pyenv/versions/3.11.4/lib/python3.11/site-packages (from openai) (3.8.5)\n",
      "Requirement already satisfied: charset-normalizer<4,>=2 in /Users/hantian_lin/.pyenv/versions/3.11.4/lib/python3.11/site-packages (from requests>=2.20->openai) (3.2.0)\n",
      "Requirement already satisfied: idna<4,>=2.5 in /Users/hantian_lin/.pyenv/versions/3.11.4/lib/python3.11/site-packages (from requests>=2.20->openai) (3.4)\n",
      "Requirement already satisfied: urllib3<3,>=1.21.1 in /Users/hantian_lin/.pyenv/versions/3.11.4/lib/python3.11/site-packages (from requests>=2.20->openai) (2.0.4)\n",
      "Requirement already satisfied: certifi>=2017.4.17 in /Users/hantian_lin/.pyenv/versions/3.11.4/lib/python3.11/site-packages (from requests>=2.20->openai) (2023.7.22)\n",
      "Requirement already satisfied: attrs>=17.3.0 in /Users/hantian_lin/.pyenv/versions/3.11.4/lib/python3.11/site-packages (from aiohttp->openai) (23.1.0)\n",
      "Requirement already satisfied: multidict<7.0,>=4.5 in /Users/hantian_lin/.pyenv/versions/3.11.4/lib/python3.11/site-packages (from aiohttp->openai) (6.0.4)\n",
      "Requirement already satisfied: async-timeout<5.0,>=4.0.0a3 in /Users/hantian_lin/.pyenv/versions/3.11.4/lib/python3.11/site-packages (from aiohttp->openai) (4.0.2)\n",
      "Requirement already satisfied: yarl<2.0,>=1.0 in /Users/hantian_lin/.pyenv/versions/3.11.4/lib/python3.11/site-packages (from aiohttp->openai) (1.9.2)\n",
      "Requirement already satisfied: frozenlist>=1.1.1 in /Users/hantian_lin/.pyenv/versions/3.11.4/lib/python3.11/site-packages (from aiohttp->openai) (1.4.0)\n",
      "Requirement already satisfied: aiosignal>=1.1.2 in /Users/hantian_lin/.pyenv/versions/3.11.4/lib/python3.11/site-packages (from aiohttp->openai) (1.3.1)\n",
      "\n",
      "\u001b[1m[\u001b[0m\u001b[34;49mnotice\u001b[0m\u001b[1;39;49m]\u001b[0m\u001b[39;49m A new release of pip is available: \u001b[0m\u001b[31;49m23.1.2\u001b[0m\u001b[39;49m -> \u001b[0m\u001b[32;49m23.2.1\u001b[0m\n",
      "\u001b[1m[\u001b[0m\u001b[34;49mnotice\u001b[0m\u001b[1;39;49m]\u001b[0m\u001b[39;49m To update, run: \u001b[0m\u001b[32;49mpip install --upgrade pip\u001b[0m\n",
      "Note: you may need to restart the kernel to use updated packages.\n"
     ]
    }
   ],
   "source": [
    "%pip install openai"
   ]
  },
  {
   "cell_type": "code",
   "execution_count": 15,
   "metadata": {},
   "outputs": [],
   "source": [
    "import openai\n",
    "import json\n",
    "\n",
    "openai.api_key_path = \"openai_api_key.txt\""
   ]
  },
  {
   "cell_type": "code",
   "execution_count": 16,
   "metadata": {},
   "outputs": [],
   "source": [
    "f = open('games.json')\n",
    "games = json.load(f)\n",
    "\n",
    "def get_num_games():\n",
    "    return len(games['games'])\n",
    "\n",
    "def get_scenario(index):\n",
    "    return games['games'][index]['scenario']\n",
    "\n",
    "def get_truth(index):\n",
    "    return games['games'][index]['truth']"
   ]
  },
  {
   "cell_type": "code",
   "execution_count": 17,
   "metadata": {},
   "outputs": [],
   "source": [
    "rule_template = \"\"\"\n",
    "You are the game master of a situation puzzle game.\n",
    "You will receive a pair of paragraphs, which constitue a complete story.\n",
    "The player will ask a series of dichotomous questions about the story.\n",
    "Your role is to respond to the player's questions by referencing the paragraphs you are given, mainly the second paragraph.\n",
    "\n",
    "Your goal is to respond in a manner that aligns with either \"yes\" or \"no.\" Your answer should convey a clear affirmative or negative meaning.\n",
    "If the answer cannot be determined from the provided information, respond in a way that reflects this uncertainty, like \"irrelevant\".\n",
    "If the question is not a dichotomous question, respond \"This cannot be answered with simply yes or no\", and prompt the player to rephrase the question.\n",
    "If the question is blank, which means the player does not enter a question, respond \"Enter a question\".\n",
    "\n",
    "Your responses should strictly adhere to these rules and options.\n",
    "\"\"\"\n",
    "\n",
    "puzzle_template = \"\"\"\n",
    "{scenario}\n",
    "\n",
    "{truth}\n",
    "\"\"\"\n",
    "\n",
    "restoration_rule_template = \"\"\"\n",
    "You are the game master of a situation puzzle game.\n",
    "Your task is to compare the player's proposed truth with the actual truth provided.\n",
    "Follow these guidelines to assess the player's response effectively:\n",
    "\n",
    "1. Analyze the actual truth and identify its key points. Summarize these key points concisely.\n",
    "\n",
    "2. Analyze the player's proposed truth. Summarize the key points of the player's proposed truth.\n",
    "\n",
    "3. Compare the summarized key points of the player's proposed truth with the key points of the actual truth. Assess if the player's proposal matches all key points or if any are missing.\n",
    "\n",
    "Use these assessments to guide your response:\n",
    "- If the player's proposed truth covers all key points of the actual truth, say that they have succeed.\n",
    "- If the player's proposed truth is missing key points, say that their answer is not emtirely correct.\n",
    "\n",
    "Your role is crucial in determining if the player's proposed truth aligns with the actual truth. Follow these instructions diligently for fair and accurate assessments.\n",
    "\"\"\"\n",
    "\n",
    "restoration_template = \"\"\"\n",
    "Player's proposed truth: {proposed_truth}\n",
    "\n",
    "Actual truth: {truth}\n",
    "\"\"\"\n"
   ]
  },
  {
   "cell_type": "code",
   "execution_count": 18,
   "metadata": {},
   "outputs": [],
   "source": [
    "def run_games():\n",
    "    num_games = get_num_games()\n",
    "    print(f\"There are {num_games} games.\")\n",
    "\n",
    "    for i in range(num_games):\n",
    "        scenario = get_scenario(i)\n",
    "        truth = get_truth(i)\n",
    "        print(\"-----------------------------------------------\")\n",
    "        print(f\"This is game {i + 1}\")\n",
    "        print(f\"The scenario is: {scenario}\")\n",
    "\n",
    "        conversation_history = []\n",
    "        conversation_history.append({\"role\": \"system\", \"content\": rule_template})\n",
    "        conversation_history.append({\"role\": \"system\", \"content\": puzzle_template.format(scenario=scenario, truth=truth)})\n",
    "        questioning(conversation_history, truth)\n",
    "\n",
    "# the system does not record the questions and answers\n",
    "def questioning(conversation_history, truth):\n",
    "    print(\"Now, you can start questioning. Type quit to stop questioning and move on to restore the truth.\")\n",
    "    while True:\n",
    "        user_input = input(\"Your question: \")\n",
    "        if user_input.lower() == \"quit\":\n",
    "            break\n",
    "        print(f\"You: {user_input}\")\n",
    "        \n",
    "        conversation_history.append({\"role\": \"user\", \"content\": user_input})\n",
    "        response = openai.ChatCompletion.create(\n",
    "            model=\"gpt-3.5-turbo\",\n",
    "            messages=conversation_history,\n",
    "            temperature=0\n",
    "        )\n",
    "        system_reply = response.choices[0].message[\"content\"]\n",
    "        print(f\"Game Master: {system_reply}\")\n",
    "        conversation_history.pop() # pop the newly appended user_input, which deletes the question from the history\n",
    "\n",
    "    restoring(truth)\n",
    "\n",
    "def restoring(truth):\n",
    "    print(\"-----------------------------------------------\")\n",
    "    print(\"Now, you can start restoring the truth.\")\n",
    "    user_input = input(\"What happened: \")\n",
    "    print(f\"What you think happened: {user_input}\")\n",
    "\n",
    "    conversation_history = []\n",
    "    conversation_history.append({\"role\": \"system\", \"content\": restoration_rule_template})\n",
    "    conversation_history.append({\"role\": \"user\", \"content\": restoration_template.format(proposed_truth=user_input, truth=truth)})\n",
    "    response = openai.ChatCompletion.create(\n",
    "            model=\"gpt-3.5-turbo\",\n",
    "            messages=conversation_history,\n",
    "            temperature=0\n",
    "        )\n",
    "        \n",
    "    system_reply = response.choices[0].message[\"content\"]\n",
    "    print(f\"Game Master: {system_reply}\")\n",
    "    print(f\"The truth: {truth}\")\n"
   ]
  },
  {
   "cell_type": "markdown",
   "metadata": {},
   "source": [
    "## Run the game by running the next block. ##"
   ]
  },
  {
   "cell_type": "code",
   "execution_count": 19,
   "metadata": {},
   "outputs": [
    {
     "name": "stdout",
     "output_type": "stream",
     "text": [
      "There are 2 games.\n",
      "-----------------------------------------------\n",
      "This is game 1\n",
      "The scenario is: A man walks into a bar and asks the bartender for a glass of water. The bartender pulls out a gun and points it at the man. The man says, \"Thank you\" and walks out.\n",
      "Now, you can start questioning. Type quit to stop questioning and move on to restore the truth.\n",
      "You: does the bartender want to kill the man\n",
      "Game Master: No.\n",
      "You: \n",
      "Game Master: Enter a question.\n",
      "You: is the man sick\n",
      "Game Master: Irrelevant.\n",
      "You: does the man have hiccups\n",
      "Game Master: Yes.\n",
      "-----------------------------------------------\n",
      "Now, you can start restoring the truth.\n",
      "What you think happened: The man has hiccups. The bartender uses the gun to scare the hiccups out of the man.\n",
      "Game Master: Key points of the actual truth:\n",
      "1. The man had hiccups.\n",
      "2. The gun scared the hiccups out of him.\n",
      "3. The man expressed gratitude by saying, \"Thank you.\"\n",
      "\n",
      "Key points of the player's proposed truth:\n",
      "1. The man had hiccups.\n",
      "2. The bartender used the gun to scare the hiccups out of the man.\n",
      "\n",
      "Assessment: The player's proposed truth covers all the key points of the actual truth. Well done!\n",
      "The truth: The man had hiccups and the gun scared them out of him, to which he said, \"Thank you.\"\n",
      "-----------------------------------------------\n",
      "This is game 2\n",
      "The scenario is: A man brushes his teeth, turns out the light, and goes to bed. The next morning he wakes up, looks out the window, and kills himself.\n",
      "Now, you can start questioning. Type quit to stop questioning and move on to restore the truth.\n",
      "You: \n",
      "Game Master: Enter a question.\n",
      "You: does the man have a job\n",
      "Game Master: Yes.\n",
      "You: is brushing teeth related to the story\n",
      "Game Master: Irrelevant.\n",
      "You: did the man see something horrible\n",
      "Game Master: Yes.\n",
      "You: is his job important\n",
      "Game Master: Yes.\n",
      "-----------------------------------------------\n",
      "Now, you can start restoring the truth.\n",
      "What you think happened: The man works at a lighthouse. He shuts the lighthouse off accidentally and caused shipwrecks.\n",
      "Game Master: Key points of the actual truth:\n",
      "1. The man is a lighthouse keeper.\n",
      "2. He accidentally turned off the lighthouse beacon.\n",
      "3. In the morning, he sees a shipwreck that he realizes he has caused.\n",
      "\n",
      "Key points of the player's proposed truth:\n",
      "1. The man works at a lighthouse.\n",
      "2. He shuts the lighthouse off accidentally.\n",
      "3. He caused shipwrecks.\n",
      "\n",
      "Assessment: The player's proposed truth covers all the key points of the actual truth. They have succeeded.\n",
      "The truth: The man is a lighthouse keeper. He accidentally turned off the lighthouse beacon. In the morning he sees a shipwreck that he realizes he has caused.\n"
     ]
    }
   ],
   "source": [
    "run_games()"
   ]
  }
 ],
 "metadata": {
  "kernelspec": {
   "display_name": "Python 3",
   "language": "python",
   "name": "python3"
  },
  "language_info": {
   "codemirror_mode": {
    "name": "ipython",
    "version": 3
   },
   "file_extension": ".py",
   "mimetype": "text/x-python",
   "name": "python",
   "nbconvert_exporter": "python",
   "pygments_lexer": "ipython3",
   "version": "3.11.4"
  },
  "orig_nbformat": 4
 },
 "nbformat": 4,
 "nbformat_minor": 2
}
